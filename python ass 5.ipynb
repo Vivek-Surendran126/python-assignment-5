{
 "cells": [
  {
   "cell_type": "code",
   "execution_count": 3,
   "id": "a56a48d5-eb4e-42b8-b219-a3f73e85b2ed",
   "metadata": {},
   "outputs": [],
   "source": [
    "file = open('D46_sample_write.txt','w') \n",
    "file.write('This is your demo file from writing a file')\n",
    "file.close()\n"
   ]
  },
  {
   "cell_type": "code",
   "execution_count": 5,
   "id": "b6cc9a88-faae-478d-bd8b-61f3aadb710a",
   "metadata": {},
   "outputs": [],
   "source": [
    "file = open('C:/Users/vivek/OneDrive/Desktop/D46_sample_vivek.txt','w') \n",
    "file.write('Hello vivek welcome to file handling')\n",
    "file.close()\n",
    "\n"
   ]
  },
  {
   "cell_type": "code",
   "execution_count": 27,
   "id": "269be631-fd2f-4749-ba3c-04767e286339",
   "metadata": {},
   "outputs": [
    {
     "name": "stdout",
     "output_type": "stream",
     "text": [
      "The content is:\n",
      "This is your demo file from writing a file\n"
     ]
    }
   ],
   "source": [
    "#1. To read and display its contents\n",
    "with open('D46_sample_write.txt', 'r') as file :\n",
    "    contents = file.read()\n",
    "    print('The content is:')\n",
    "    print(contents)\n"
   ]
  },
  {
   "cell_type": "code",
   "execution_count": 33,
   "id": "f62c9f31-77fc-4176-94a6-de535a2ad65b",
   "metadata": {},
   "outputs": [
    {
     "name": "stdout",
     "output_type": "stream",
     "text": [
      "successfully Copied.\n"
     ]
    }
   ],
   "source": [
    "#2.Copy content to another file\n",
    "file_one = open('D46_sample_write.txt', 'r')\n",
    "file_two = open('example.txt', 'w')\n",
    "\n",
    "file_two.write(file_one.read())\n",
    "file_one.close()\n",
    "file_two.close()\n",
    "\n",
    "print('successfully Copied.')"
   ]
  },
  {
   "cell_type": "code",
   "execution_count": 35,
   "id": "7dc62b94-0a18-479d-9d74-7594a31bcb25",
   "metadata": {},
   "outputs": [
    {
     "name": "stdout",
     "output_type": "stream",
     "text": [
      "Total number of words: 9\n"
     ]
    }
   ],
   "source": [
    "#3.Read contents and count of words\n",
    "file = open('example.txt', 'r')\n",
    "#counting words\n",
    "word_count = len(file.read().split())\n",
    "print(f'Total number of words: {word_count}')\n",
    "file.close()\n",
    "\n"
   ]
  },
  {
   "cell_type": "code",
   "execution_count": 49,
   "id": "15282ccc-e478-4192-9e4a-41d97ff08f6f",
   "metadata": {},
   "outputs": [
    {
     "name": "stdin",
     "output_type": "stream",
     "text": [
      "Enter a number:  456\n"
     ]
    },
    {
     "name": "stdout",
     "output_type": "stream",
     "text": [
      "The number is: 456\n"
     ]
    }
   ],
   "source": [
    "#4.Input string and convert it to int\n",
    "\n",
    "user_input = input('Enter a number: ')\n",
    "\n",
    "try:\n",
    "    number = int(user_input)\n",
    "    print('The number is:', number)\n",
    "except:\n",
    "    print('Invalid input!')\n",
    "\n"
   ]
  },
  {
   "cell_type": "code",
   "execution_count": 65,
   "id": "3dac1b50-cd10-4ce0-8fcd-9e9c4d827b39",
   "metadata": {},
   "outputs": [
    {
     "name": "stdin",
     "output_type": "stream",
     "text": [
      "Enter a list of integers:  34 56 76 54 65\n"
     ]
    },
    {
     "name": "stdout",
     "output_type": "stream",
     "text": [
      "All numbers are non-negative.\n"
     ]
    }
   ],
   "source": [
    "# 5.Entering integers and except negative numbers\n",
    "# Get the list of integers from the user\n",
    "numbers = list(map(int, input(\"Enter a list of integers: \").split()))\n",
    "\n",
    "# Check for negative numbers\n",
    "for num in numbers:\n",
    "    if num < 0:\n",
    "        raise Exception(f\"Negative number found: {num}\")\n",
    "\n",
    "print(\"All numbers are non-negative.\")\n",
    "\n"
   ]
  },
  {
   "cell_type": "code",
   "execution_count": 72,
   "id": "67243447-792e-4a61-9b02-678b138162de",
   "metadata": {},
   "outputs": [
    {
     "name": "stdin",
     "output_type": "stream",
     "text": [
      "Enter numbers:  5 5 5 5\n"
     ]
    },
    {
     "name": "stdout",
     "output_type": "stream",
     "text": [
      "The average is: 5.0\n",
      "The program has finished running.\n"
     ]
    }
   ],
   "source": [
    "#6. Input set of integers and finding its average\n",
    "try:\n",
    "    numbers = list(map(int, input(\"Enter numbers: \").split()))\n",
    "    \n",
    "    average = sum(numbers) / len(numbers)\n",
    "    print(f\"The average is: {average}\")\n",
    "\n",
    "except:\n",
    "    print(\"An error occurred.\")\n",
    "\n",
    "finally:\n",
    "   print(\"The program has finished running.\")\n",
    "\n"
   ]
  },
  {
   "cell_type": "code",
   "execution_count": 77,
   "id": "0df66349-28ff-451e-a5d1-c46aff53602d",
   "metadata": {},
   "outputs": [
    {
     "name": "stdin",
     "output_type": "stream",
     "text": [
      "Enter the filename:  example.txt\n"
     ]
    },
    {
     "name": "stdout",
     "output_type": "stream",
     "text": [
      "The string successfully written to the file.\n"
     ]
    }
   ],
   "source": [
    "#7.Adding string to a file \n",
    "try:\n",
    "    filename = input(\"Enter the filename: \")\n",
    "\n",
    "    with open('example.txt', \"w\") as file:\n",
    "        file.write(\"Hello! welcome to python.\")\n",
    "    print(\"The string successfully written to the file.\")\n",
    "\n",
    "except:\n",
    "    print(\"An error occurred.\")\n"
   ]
  },
  {
   "cell_type": "code",
   "execution_count": null,
   "id": "481829ed-e4f2-49b4-913d-9e7ca9af3fe2",
   "metadata": {},
   "outputs": [],
   "source": [
    "\n"
   ]
  },
  {
   "cell_type": "code",
   "execution_count": null,
   "id": "2e1c3091-5d2f-4b37-965f-a68ce7c427fb",
   "metadata": {},
   "outputs": [],
   "source": []
  }
 ],
 "metadata": {
  "kernelspec": {
   "display_name": "Python [conda env:base] *",
   "language": "python",
   "name": "conda-base-py"
  },
  "language_info": {
   "codemirror_mode": {
    "name": "ipython",
    "version": 3
   },
   "file_extension": ".py",
   "mimetype": "text/x-python",
   "name": "python",
   "nbconvert_exporter": "python",
   "pygments_lexer": "ipython3",
   "version": "3.12.7"
  }
 },
 "nbformat": 4,
 "nbformat_minor": 5
}
